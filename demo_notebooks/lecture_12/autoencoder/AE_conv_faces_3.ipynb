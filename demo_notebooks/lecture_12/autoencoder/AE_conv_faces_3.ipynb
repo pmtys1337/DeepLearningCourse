{
 "cells": [
  {
   "cell_type": "code",
   "execution_count": 1,
   "metadata": {},
   "outputs": [
    {
     "name": "stdout",
     "output_type": "stream",
     "text": [
      "env: CUDA_VISIBLE_DEVICES=0\n"
     ]
    }
   ],
   "source": [
    "%env CUDA_VISIBLE_DEVICES=0"
   ]
  },
  {
   "cell_type": "code",
   "execution_count": 2,
   "metadata": {},
   "outputs": [
    {
     "name": "stderr",
     "output_type": "stream",
     "text": [
      "/home/qati/.anaconda3/lib/python3.5/site-packages/h5py/__init__.py:34: FutureWarning: Conversion of the second argument of issubdtype from `float` to `np.floating` is deprecated. In future, it will be treated as `np.float64 == np.dtype(float).type`.\n",
      "  from ._conv import register_converters as _register_converters\n",
      "Using TensorFlow backend.\n"
     ]
    }
   ],
   "source": [
    "from keras.datasets import mnist\n",
    "from keras.layers import Dense, Reshape, Flatten, Input, Dropout, Conv2D, Conv2DTranspose, MaxPool2D, GlobalAveragePooling2D\n",
    "import keras.losses as losses\n",
    "from keras.layers import BatchNormalization, Activation\n",
    "from keras.optimizers import Adam,SGD \n",
    "import keras.metrics as metrics\n",
    "from keras.models import Model\n",
    "from functools import reduce\n",
    "from operator import mul\n",
    "from sklearn.model_selection import train_test_split\n",
    "from ipywidgets import interact\n",
    "from sklearn.manifold import TSNE\n",
    "from sklearn.cluster import DBSCAN\n",
    "import ipywidgets as ipy\n",
    "import matplotlib.pyplot as plt\n",
    "from keras.layers import LeakyReLU\n",
    "import numpy as np\n",
    "import imageio\n",
    "import os\n",
    "from skimage import io, color\n",
    "import pandas as pd\n",
    "%matplotlib inline"
   ]
  },
  {
   "cell_type": "code",
   "execution_count": 3,
   "metadata": {},
   "outputs": [],
   "source": [
    "def load_data(data_dir, csv_file):\n",
    "    df = pd.read_csv(csv_file)\n",
    "    faces = os.listdir(data_dir)\n",
    "    X = np.zeros((len(faces), 48,48))\n",
    "    Y = np.zeros((len(faces), 1))\n",
    "    for face in faces:\n",
    "        fid = int(face.replace(\".png\",\"\"))\n",
    "        X[fid-1,:,:] = np.array(imageio.imread(data_dir+face))[:,:,0]/255.\n",
    "        Y[fid-1, 0]  = int(df.loc[df[\"ID\"]==int(fid)][\"isHappy\"].values)\n",
    "    X_train, X_validation, Y_train, Y_validation = train_test_split(X, Y, test_size=0.1, random_state=4325524)\n",
    "    return (X_train,Y_train, X_validation, Y_validation)"
   ]
  },
  {
   "cell_type": "code",
   "execution_count": 4,
   "metadata": {},
   "outputs": [],
   "source": [
    "x_train, y_train, x_dev, y_dev = load_data(\"../faces/trainData/\", \"../faces/train_labels.csv\")"
   ]
  },
  {
   "cell_type": "code",
   "execution_count": 5,
   "metadata": {},
   "outputs": [],
   "source": [
    "X_train  = x_train.reshape((-1,48,48,1))\n",
    "X_dev = x_dev.reshape((-1,48,48,1))"
   ]
  },
  {
   "cell_type": "code",
   "execution_count": 7,
   "metadata": {},
   "outputs": [
    {
     "data": {
      "text/plain": [
       "array([1.])"
      ]
     },
     "execution_count": 7,
     "metadata": {},
     "output_type": "execute_result"
    },
    {
     "data": {
      "image/png": "[encoded data removed]",
      "text/plain": [
       "<matplotlib.figure.Figure at 0x7fbfcea736a0>"
      ]
     },
     "metadata": {},
     "output_type": "display_data"
    }
   ],
   "source": [
    "idx = 5\n",
    "plt.imshow(x_train[idx,:,:], cmap=\"gray\")\n",
    "y_train[idx,:]"
   ]
  },
  {
   "cell_type": "code",
   "execution_count": 8,
   "metadata": {},
   "outputs": [],
   "source": [
    "def conv(filters, kernel=5, strides=2, padding=\"same\", lrelu=0.1):\n",
    "    def run(vol):\n",
    "        x = Conv2D(filters, kernel, strides=strides, padding=padding)(vol)\n",
    "        x = BatchNormalization()(x)\n",
    "        x = LeakyReLU(lrelu)(x)\n",
    "        return x\n",
    "    return run\n",
    "\n",
    "def deconv(filters, kernel=5, strides=2, padding=\"same\", lrelu=0.1):\n",
    "    def run(vol):\n",
    "        x = Conv2DTranspose(filters, kernel, strides=strides, padding=padding)(vol)\n",
    "        x = BatchNormalization()(x)\n",
    "        x = LeakyReLU(lrelu)(x)\n",
    "        return x\n",
    "    return run\n",
    "\n",
    "def build_ae(input_shape, lrelu_par=0.2):\n",
    "    \n",
    "    #encoder\n",
    "    pic = Input(shape=input_shape)\n",
    "    \n",
    "    x = conv(64)(pic)\n",
    "    x = conv(128)(x)\n",
    "    x = conv(128)(x)\n",
    "    x = conv(128, kernel=2)(x)\n",
    "    \n",
    "    encoder = Model(inputs=[pic], outputs=[x])\n",
    "    encoder.summary()\n",
    "    \n",
    "    #decoder\n",
    "    enc = Input(shape=(3,3,128))\n",
    "    x = deconv(128, kernel=2)(enc)\n",
    "    x = deconv(128)(x)\n",
    "    x = deconv(64)(x)\n",
    "    x = deconv(32)(x)\n",
    "    x = Conv2D(1, kernel_size=7, strides=1, padding=\"same\", activation=\"sigmoid\")(x)\n",
    "\n",
    "    decoder = Model(inputs=[enc], outputs=[x])\n",
    "    \n",
    "    print(decoder.summary())\n",
    "\n",
    "    #autoencoder\n",
    "    autoencoder = Model(inputs=[pic], outputs=decoder(encoder.output))    \n",
    "    \n",
    "    return encoder, decoder, autoencoder"
   ]
  },
  {
   "cell_type": "code",
   "execution_count": 9,
   "metadata": {},
   "outputs": [
    {
     "name": "stdout",
     "output_type": "stream",
     "text": [
      "_________________________________________________________________\n",
      "Layer (type)                 Output Shape              Param #   \n",
      "=================================================================\n",
      "input_1 (InputLayer)         (None, 48, 48, 1)         0         \n",
      "_________________________________________________________________\n",
      "conv2d_1 (Conv2D)            (None, 24, 24, 64)        1664      \n",
      "_________________________________________________________________\n",
      "batch_normalization_1 (Batch (None, 24, 24, 64)        256       \n",
      "_________________________________________________________________\n",
      "leaky_re_lu_1 (LeakyReLU)    (None, 24, 24, 64)        0         \n",
      "_________________________________________________________________\n",
      "conv2d_2 (Conv2D)            (None, 12, 12, 128)       204928    \n",
      "_________________________________________________________________\n",
      "batch_normalization_2 (Batch (None, 12, 12, 128)       512       \n",
      "_________________________________________________________________\n",
      "leaky_re_lu_2 (LeakyReLU)    (None, 12, 12, 128)       0         \n",
      "_________________________________________________________________\n",
      "conv2d_3 (Conv2D)            (None, 6, 6, 128)         409728    \n",
      "_________________________________________________________________\n",
      "batch_normalization_3 (Batch (None, 6, 6, 128)         512       \n",
      "_________________________________________________________________\n",
      "leaky_re_lu_3 (LeakyReLU)    (None, 6, 6, 128)         0         \n",
      "_________________________________________________________________\n",
      "conv2d_4 (Conv2D)            (None, 3, 3, 128)         65664     \n",
      "_________________________________________________________________\n",
      "batch_normalization_4 (Batch (None, 3, 3, 128)         512       \n",
      "_________________________________________________________________\n",
      "leaky_re_lu_4 (LeakyReLU)    (None, 3, 3, 128)         0         \n",
      "=================================================================\n",
      "Total params: 683,776\n",
      "Trainable params: 682,880\n",
      "Non-trainable params: 896\n",
      "_________________________________________________________________\n",
      "_________________________________________________________________\n",
      "Layer (type)                 Output Shape              Param #   \n",
      "=================================================================\n",
      "input_2 (InputLayer)         (None, 3, 3, 128)         0         \n",
      "_________________________________________________________________\n",
      "conv2d_transpose_1 (Conv2DTr (None, 6, 6, 128)         65664     \n",
      "_________________________________________________________________\n",
      "batch_normalization_5 (Batch (None, 6, 6, 128)         512       \n",
      "_________________________________________________________________\n",
      "leaky_re_lu_5 (LeakyReLU)    (None, 6, 6, 128)         0         \n",
      "_________________________________________________________________\n",
      "conv2d_transpose_2 (Conv2DTr (None, 12, 12, 128)       409728    \n",
      "_________________________________________________________________\n",
      "batch_normalization_6 (Batch (None, 12, 12, 128)       512       \n",
      "_________________________________________________________________\n",
      "leaky_re_lu_6 (LeakyReLU)    (None, 12, 12, 128)       0         \n",
      "_________________________________________________________________\n",
      "conv2d_transpose_3 (Conv2DTr (None, 24, 24, 64)        204864    \n",
      "_________________________________________________________________\n",
      "batch_normalization_7 (Batch (None, 24, 24, 64)        256       \n",
      "_________________________________________________________________\n",
      "leaky_re_lu_7 (LeakyReLU)    (None, 24, 24, 64)        0         \n",
      "_________________________________________________________________\n",
      "conv2d_transpose_4 (Conv2DTr (None, 48, 48, 32)        51232     \n",
      "_________________________________________________________________\n",
      "batch_normalization_8 (Batch (None, 48, 48, 32)        128       \n",
      "_________________________________________________________________\n",
      "leaky_re_lu_8 (LeakyReLU)    (None, 48, 48, 32)        0         \n",
      "_________________________________________________________________\n",
      "conv2d_5 (Conv2D)            (None, 48, 48, 1)         1569      \n",
      "=================================================================\n",
      "Total params: 734,465\n",
      "Trainable params: 733,761\n",
      "Non-trainable params: 704\n",
      "_________________________________________________________________\n",
      "None\n"
     ]
    }
   ],
   "source": [
    "encoder, decoder, autoencoder = build_ae([48,48,1],0.1)\n",
    "autoencoder.compile(loss=losses.binary_crossentropy, optimizer=Adam(0.001, beta_1=0.9, decay=1e-8))"
   ]
  },
  {
   "cell_type": "code",
   "execution_count": 37,
   "metadata": {
    "scrolled": true
   },
   "outputs": [
    {
     "name": "stdout",
     "output_type": "stream",
     "text": [
      "Train on 9000 samples, validate on 1000 samples\n",
      "Epoch 1/200\n",
      "9000/9000 [==============================] - 8s 929us/step - loss: 0.5656 - val_loss: 0.6478\n",
      "Epoch 2/200\n",
      "9000/9000 [==============================] - 7s 781us/step - loss: 0.5205 - val_loss: 0.6446\n",
      "Epoch 3/200\n",
      "9000/9000 [==============================] - 7s 781us/step - loss: 0.5124 - val_loss: 0.6162\n",
      "Epoch 4/200\n",
      "9000/9000 [==============================] - 7s 781us/step - loss: 0.5098 - val_loss: 0.5814\n",
      "Epoch 5/200\n",
      "9000/9000 [==============================] - 7s 781us/step - loss: 0.5080 - val_loss: 0.5516\n",
      "Epoch 6/200\n",
      "9000/9000 [==============================] - 7s 782us/step - loss: 0.5062 - val_loss: 0.5294\n",
      "Epoch 7/200\n",
      "9000/9000 [==============================] - 7s 780us/step - loss: 0.5039 - val_loss: 0.5165\n",
      "Epoch 8/200\n",
      "9000/9000 [==============================] - 7s 781us/step - loss: 0.5030 - val_loss: 0.5017\n",
      "Epoch 9/200\n",
      "9000/9000 [==============================] - 7s 783us/step - loss: 0.5020 - val_loss: 0.4989\n",
      "Epoch 10/200\n",
      "9000/9000 [==============================] - 7s 780us/step - loss: 0.5008 - val_loss: 0.5057\n",
      "Epoch 11/200\n",
      "9000/9000 [==============================] - 7s 784us/step - loss: 0.5003 - val_loss: 0.5027\n",
      "Epoch 12/200\n",
      "9000/9000 [==============================] - 7s 783us/step - loss: 0.4996 - val_loss: 0.4971\n",
      "Epoch 13/200\n",
      "9000/9000 [==============================] - 7s 786us/step - loss: 0.4994 - val_loss: 0.5096\n",
      "Epoch 14/200\n",
      "9000/9000 [==============================] - 7s 782us/step - loss: 0.4990 - val_loss: 0.5038\n",
      "Epoch 15/200\n",
      "9000/9000 [==============================] - 7s 784us/step - loss: 0.4979 - val_loss: 0.4980\n",
      "Epoch 16/200\n",
      "9000/9000 [==============================] - 7s 781us/step - loss: 0.4974 - val_loss: 0.4973\n",
      "Epoch 17/200\n",
      "9000/9000 [==============================] - 7s 783us/step - loss: 0.4973 - val_loss: 0.4969\n",
      "Epoch 18/200\n",
      "9000/9000 [==============================] - 7s 783us/step - loss: 0.4966 - val_loss: 0.4952\n",
      "Epoch 19/200\n",
      "9000/9000 [==============================] - 7s 781us/step - loss: 0.4965 - val_loss: 0.4953\n",
      "Epoch 20/200\n",
      "9000/9000 [==============================] - 7s 783us/step - loss: 0.4963 - val_loss: 0.4969\n",
      "Epoch 21/200\n",
      "9000/9000 [==============================] - 7s 784us/step - loss: 0.4962 - val_loss: 0.5022\n",
      "Epoch 22/200\n",
      "9000/9000 [==============================] - 7s 783us/step - loss: 0.4960 - val_loss: 0.4969\n",
      "Epoch 23/200\n",
      "9000/9000 [==============================] - 7s 782us/step - loss: 0.4955 - val_loss: 0.4940\n",
      "Epoch 24/200\n",
      "9000/9000 [==============================] - 7s 783us/step - loss: 0.4956 - val_loss: 0.4977\n",
      "Epoch 25/200\n",
      "9000/9000 [==============================] - 7s 788us/step - loss: 0.4952 - val_loss: 0.4972\n",
      "Epoch 26/200\n",
      "9000/9000 [==============================] - 7s 785us/step - loss: 0.4951 - val_loss: 0.5019\n",
      "Epoch 27/200\n",
      "9000/9000 [==============================] - 7s 782us/step - loss: 0.4949 - val_loss: 0.4943\n",
      "Epoch 28/200\n",
      "9000/9000 [==============================] - 7s 784us/step - loss: 0.4947 - val_loss: 0.4930\n",
      "Epoch 29/200\n",
      "9000/9000 [==============================] - 7s 783us/step - loss: 0.4945 - val_loss: 0.4958\n",
      "Epoch 30/200\n",
      "9000/9000 [==============================] - 7s 783us/step - loss: 0.4944 - val_loss: 0.4981\n",
      "Epoch 31/200\n",
      "9000/9000 [==============================] - 7s 785us/step - loss: 0.4947 - val_loss: 0.4940\n",
      "Epoch 32/200\n",
      "9000/9000 [==============================] - 7s 786us/step - loss: 0.4941 - val_loss: 0.4921\n",
      "Epoch 33/200\n",
      "9000/9000 [==============================] - 7s 787us/step - loss: 0.4939 - val_loss: 0.4980\n",
      "Epoch 34/200\n",
      "9000/9000 [==============================] - 7s 786us/step - loss: 0.4940 - val_loss: 0.4936\n",
      "Epoch 35/200\n",
      "9000/9000 [==============================] - 7s 786us/step - loss: 0.4941 - val_loss: 0.4956\n",
      "Epoch 36/200\n",
      "9000/9000 [==============================] - 7s 785us/step - loss: 0.4937 - val_loss: 0.4983\n",
      "Epoch 37/200\n",
      "9000/9000 [==============================] - 7s 783us/step - loss: 0.4936 - val_loss: 0.4955\n",
      "Epoch 38/200\n",
      "9000/9000 [==============================] - 7s 785us/step - loss: 0.4932 - val_loss: 0.4925\n",
      "Epoch 39/200\n",
      "9000/9000 [==============================] - 7s 786us/step - loss: 0.4932 - val_loss: 0.4915\n",
      "Epoch 40/200\n",
      "9000/9000 [==============================] - 7s 786us/step - loss: 0.4933 - val_loss: 0.4950\n",
      "Epoch 41/200\n",
      "9000/9000 [==============================] - 7s 785us/step - loss: 0.4937 - val_loss: 0.4935\n",
      "Epoch 42/200\n",
      "9000/9000 [==============================] - 7s 785us/step - loss: 0.4932 - val_loss: 0.4987\n",
      "Epoch 43/200\n",
      "9000/9000 [==============================] - 7s 785us/step - loss: 0.4930 - val_loss: 0.4939\n",
      "Epoch 44/200\n",
      "9000/9000 [==============================] - 7s 785us/step - loss: 0.4929 - val_loss: 0.4907\n",
      "Epoch 45/200\n",
      "9000/9000 [==============================] - 7s 786us/step - loss: 0.4928 - val_loss: 0.4934\n",
      "Epoch 46/200\n",
      "9000/9000 [==============================] - 7s 786us/step - loss: 0.4927 - val_loss: 0.4927\n",
      "Epoch 47/200\n",
      "9000/9000 [==============================] - 7s 786us/step - loss: 0.4928 - val_loss: 0.4911\n",
      "Epoch 48/200\n",
      "9000/9000 [==============================] - 7s 786us/step - loss: 0.4924 - val_loss: 0.4916\n",
      "Epoch 49/200\n",
      "9000/9000 [==============================] - 7s 787us/step - loss: 0.4930 - val_loss: 0.4904\n",
      "Epoch 50/200\n",
      "9000/9000 [==============================] - 7s 787us/step - loss: 0.4926 - val_loss: 0.4901\n",
      "Epoch 51/200\n",
      "9000/9000 [==============================] - 7s 787us/step - loss: 0.4924 - val_loss: 0.4938\n",
      "Epoch 52/200\n",
      "9000/9000 [==============================] - 7s 785us/step - loss: 0.4924 - val_loss: 0.4905\n",
      "Epoch 53/200\n",
      "9000/9000 [==============================] - 7s 786us/step - loss: 0.4922 - val_loss: 0.4911\n",
      "Epoch 54/200\n",
      "9000/9000 [==============================] - 7s 786us/step - loss: 0.4925 - val_loss: 0.4921\n",
      "Epoch 55/200\n",
      "9000/9000 [==============================] - 7s 788us/step - loss: 0.4923 - val_loss: 0.4920\n",
      "Epoch 56/200\n",
      "9000/9000 [==============================] - 7s 786us/step - loss: 0.4923 - val_loss: 0.4939\n",
      "Epoch 57/200\n",
      "9000/9000 [==============================] - 7s 786us/step - loss: 0.4921 - val_loss: 0.4911\n",
      "Epoch 58/200\n",
      "9000/9000 [==============================] - 7s 789us/step - loss: 0.4919 - val_loss: 0.4931\n",
      "Epoch 59/200\n",
      "9000/9000 [==============================] - 7s 789us/step - loss: 0.4925 - val_loss: 0.4909\n",
      "Epoch 60/200\n",
      "9000/9000 [==============================] - 7s 789us/step - loss: 0.4919 - val_loss: 0.4911\n",
      "Epoch 61/200\n",
      "9000/9000 [==============================] - 7s 787us/step - loss: 0.4918 - val_loss: 0.4940\n",
      "Epoch 62/200\n",
      "9000/9000 [==============================] - 7s 786us/step - loss: 0.4920 - val_loss: 0.4898\n",
      "Epoch 63/200\n",
      "9000/9000 [==============================] - 7s 785us/step - loss: 0.4917 - val_loss: 0.4899\n",
      "Epoch 64/200\n",
      "9000/9000 [==============================] - 7s 786us/step - loss: 0.4916 - val_loss: 0.4891\n",
      "Epoch 65/200\n",
      "9000/9000 [==============================] - 7s 786us/step - loss: 0.4916 - val_loss: 0.4901\n",
      "Epoch 66/200\n",
      "9000/9000 [==============================] - 7s 787us/step - loss: 0.4917 - val_loss: 0.4897\n",
      "Epoch 67/200\n",
      "9000/9000 [==============================] - 7s 785us/step - loss: 0.4915 - val_loss: 0.4930\n",
      "Epoch 68/200\n",
      "9000/9000 [==============================] - 7s 786us/step - loss: 0.4916 - val_loss: 0.4929\n",
      "Epoch 69/200\n",
      "9000/9000 [==============================] - 7s 785us/step - loss: 0.4918 - val_loss: 0.4899\n",
      "Epoch 70/200\n",
      "9000/9000 [==============================] - 7s 784us/step - loss: 0.4917 - val_loss: 0.4900\n",
      "Epoch 71/200\n",
      "9000/9000 [==============================] - 7s 785us/step - loss: 0.4916 - val_loss: 0.4900\n",
      "Epoch 72/200\n",
      "9000/9000 [==============================] - 7s 786us/step - loss: 0.4916 - val_loss: 0.4908\n",
      "Epoch 73/200\n",
      "9000/9000 [==============================] - 7s 783us/step - loss: 0.4912 - val_loss: 0.4888\n",
      "Epoch 74/200\n",
      "9000/9000 [==============================] - 7s 786us/step - loss: 0.4913 - val_loss: 0.4900\n",
      "Epoch 75/200\n",
      "9000/9000 [==============================] - 7s 784us/step - loss: 0.4913 - val_loss: 0.4899\n",
      "Epoch 76/200\n",
      "9000/9000 [==============================] - 7s 786us/step - loss: 0.4912 - val_loss: 0.4888\n",
      "Epoch 77/200\n",
      "9000/9000 [==============================] - 7s 786us/step - loss: 0.4913 - val_loss: 0.4888\n"
     ]
    },
    {
     "name": "stdout",
     "output_type": "stream",
     "text": [
      "Epoch 78/200\n",
      "9000/9000 [==============================] - 7s 785us/step - loss: 0.4912 - val_loss: 0.4907\n",
      "Epoch 79/200\n",
      "9000/9000 [==============================] - 7s 785us/step - loss: 0.4911 - val_loss: 0.4895\n",
      "Epoch 80/200\n",
      "9000/9000 [==============================] - 7s 786us/step - loss: 0.4911 - val_loss: 0.4916\n",
      "Epoch 81/200\n",
      "9000/9000 [==============================] - 7s 787us/step - loss: 0.4911 - val_loss: 0.4889\n",
      "Epoch 82/200\n",
      "9000/9000 [==============================] - 7s 787us/step - loss: 0.4910 - val_loss: 0.4895\n",
      "Epoch 83/200\n",
      "9000/9000 [==============================] - 7s 787us/step - loss: 0.4910 - val_loss: 0.4890\n",
      "Epoch 84/200\n",
      "9000/9000 [==============================] - 7s 784us/step - loss: 0.4909 - val_loss: 0.4900\n",
      "Epoch 85/200\n",
      "9000/9000 [==============================] - 7s 784us/step - loss: 0.4911 - val_loss: 0.4995\n",
      "Epoch 86/200\n",
      "9000/9000 [==============================] - 7s 784us/step - loss: 0.4908 - val_loss: 0.4894\n",
      "Epoch 87/200\n",
      "9000/9000 [==============================] - 7s 786us/step - loss: 0.4911 - val_loss: 0.4888\n",
      "Epoch 88/200\n",
      "9000/9000 [==============================] - 7s 785us/step - loss: 0.4907 - val_loss: 0.4911\n",
      "Epoch 89/200\n",
      "9000/9000 [==============================] - 7s 786us/step - loss: 0.4908 - val_loss: 0.4893\n",
      "Epoch 90/200\n",
      "9000/9000 [==============================] - 7s 785us/step - loss: 0.4906 - val_loss: 0.4888\n",
      "Epoch 91/200\n",
      "9000/9000 [==============================] - 7s 783us/step - loss: 0.4906 - val_loss: 0.4885\n",
      "Epoch 92/200\n",
      "9000/9000 [==============================] - 7s 785us/step - loss: 0.4908 - val_loss: 0.4913\n",
      "Epoch 93/200\n",
      "9000/9000 [==============================] - 7s 785us/step - loss: 0.4907 - val_loss: 0.4907\n",
      "Epoch 94/200\n",
      "9000/9000 [==============================] - 7s 785us/step - loss: 0.4905 - val_loss: 0.4899\n",
      "Epoch 95/200\n",
      "9000/9000 [==============================] - 7s 784us/step - loss: 0.4906 - val_loss: 0.4888\n",
      "Epoch 96/200\n",
      "9000/9000 [==============================] - 7s 786us/step - loss: 0.4905 - val_loss: 0.4914\n",
      "Epoch 97/200\n",
      "9000/9000 [==============================] - 7s 786us/step - loss: 0.4904 - val_loss: 0.4921\n",
      "Epoch 98/200\n",
      "9000/9000 [==============================] - 7s 789us/step - loss: 0.4902 - val_loss: 0.4911\n",
      "Epoch 99/200\n",
      "9000/9000 [==============================] - 7s 784us/step - loss: 0.4904 - val_loss: 0.4884\n",
      "Epoch 100/200\n",
      "9000/9000 [==============================] - 7s 785us/step - loss: 0.4902 - val_loss: 0.4885\n",
      "Epoch 101/200\n",
      "9000/9000 [==============================] - 7s 785us/step - loss: 0.4902 - val_loss: 0.4879\n",
      "Epoch 102/200\n",
      "9000/9000 [==============================] - 7s 786us/step - loss: 0.4902 - val_loss: 0.4881\n",
      "Epoch 103/200\n",
      "9000/9000 [==============================] - 7s 787us/step - loss: 0.4901 - val_loss: 0.4890\n",
      "Epoch 104/200\n",
      "9000/9000 [==============================] - 7s 783us/step - loss: 0.4901 - val_loss: 0.4898\n",
      "Epoch 105/200\n",
      "9000/9000 [==============================] - 7s 787us/step - loss: 0.4901 - val_loss: 0.4881\n",
      "Epoch 106/200\n",
      "9000/9000 [==============================] - 7s 785us/step - loss: 0.4901 - val_loss: 0.4890\n",
      "Epoch 107/200\n",
      "9000/9000 [==============================] - 7s 786us/step - loss: 0.4900 - val_loss: 0.4883\n",
      "Epoch 108/200\n",
      "9000/9000 [==============================] - 7s 787us/step - loss: 0.4900 - val_loss: 0.4887\n",
      "Epoch 109/200\n",
      "9000/9000 [==============================] - 7s 785us/step - loss: 0.4899 - val_loss: 0.4880\n",
      "Epoch 110/200\n",
      "9000/9000 [==============================] - 7s 786us/step - loss: 0.4899 - val_loss: 0.4877\n",
      "Epoch 111/200\n",
      "9000/9000 [==============================] - 7s 786us/step - loss: 0.4898 - val_loss: 0.4889\n",
      "Epoch 112/200\n",
      "9000/9000 [==============================] - 7s 786us/step - loss: 0.4899 - val_loss: 0.4886\n",
      "Epoch 113/200\n",
      "9000/9000 [==============================] - 7s 786us/step - loss: 0.4900 - val_loss: 0.4880\n",
      "Epoch 114/200\n",
      "9000/9000 [==============================] - 7s 787us/step - loss: 0.4898 - val_loss: 0.4887\n",
      "Epoch 115/200\n",
      "9000/9000 [==============================] - 7s 785us/step - loss: 0.4900 - val_loss: 0.4883\n",
      "Epoch 116/200\n",
      "9000/9000 [==============================] - 7s 785us/step - loss: 0.4898 - val_loss: 0.4882\n",
      "Epoch 117/200\n",
      "9000/9000 [==============================] - 7s 786us/step - loss: 0.4897 - val_loss: 0.4884\n",
      "Epoch 118/200\n",
      "9000/9000 [==============================] - 7s 782us/step - loss: 0.4897 - val_loss: 0.4879\n",
      "Epoch 119/200\n",
      "9000/9000 [==============================] - 7s 786us/step - loss: 0.4897 - val_loss: 0.4877\n",
      "Epoch 120/200\n",
      "9000/9000 [==============================] - 7s 786us/step - loss: 0.4897 - val_loss: 0.4880\n",
      "Epoch 121/200\n",
      "9000/9000 [==============================] - 7s 786us/step - loss: 0.4896 - val_loss: 0.4880\n",
      "Epoch 122/200\n",
      "9000/9000 [==============================] - 7s 786us/step - loss: 0.4896 - val_loss: 0.4876\n",
      "Epoch 123/200\n",
      "9000/9000 [==============================] - 7s 785us/step - loss: 0.4895 - val_loss: 0.4892\n",
      "Epoch 124/200\n",
      "9000/9000 [==============================] - 7s 788us/step - loss: 0.4895 - val_loss: 0.4873\n",
      "Epoch 125/200\n",
      "9000/9000 [==============================] - 7s 786us/step - loss: 0.4895 - val_loss: 0.4908\n",
      "Epoch 126/200\n",
      "9000/9000 [==============================] - 7s 786us/step - loss: 0.4895 - val_loss: 0.4879\n",
      "Epoch 127/200\n",
      "9000/9000 [==============================] - 7s 786us/step - loss: 0.4894 - val_loss: 0.4881\n",
      "Epoch 128/200\n",
      "9000/9000 [==============================] - 7s 784us/step - loss: 0.4895 - val_loss: 0.4877\n",
      "Epoch 129/200\n",
      "9000/9000 [==============================] - 7s 784us/step - loss: 0.4896 - val_loss: 0.4882\n",
      "Epoch 130/200\n",
      "9000/9000 [==============================] - 7s 786us/step - loss: 0.4894 - val_loss: 0.4875\n",
      "Epoch 131/200\n",
      "9000/9000 [==============================] - 7s 787us/step - loss: 0.4895 - val_loss: 0.4912\n",
      "Epoch 132/200\n",
      "9000/9000 [==============================] - 7s 786us/step - loss: 0.4894 - val_loss: 0.4883\n",
      "Epoch 133/200\n",
      "9000/9000 [==============================] - 7s 785us/step - loss: 0.4894 - val_loss: 0.4872\n",
      "Epoch 134/200\n",
      "9000/9000 [==============================] - 7s 786us/step - loss: 0.4894 - val_loss: 0.4876\n",
      "Epoch 135/200\n",
      "9000/9000 [==============================] - 7s 787us/step - loss: 0.4894 - val_loss: 0.4872\n",
      "Epoch 136/200\n",
      "9000/9000 [==============================] - 7s 788us/step - loss: 0.4893 - val_loss: 0.4873\n",
      "Epoch 137/200\n",
      "9000/9000 [==============================] - 7s 787us/step - loss: 0.4893 - val_loss: 0.4872\n",
      "Epoch 138/200\n",
      "9000/9000 [==============================] - 7s 786us/step - loss: 0.4893 - val_loss: 0.4884\n",
      "Epoch 139/200\n",
      "9000/9000 [==============================] - 7s 787us/step - loss: 0.4892 - val_loss: 0.4873\n",
      "Epoch 140/200\n",
      "9000/9000 [==============================] - 7s 785us/step - loss: 0.4892 - val_loss: 0.4873\n",
      "Epoch 141/200\n",
      "9000/9000 [==============================] - 7s 784us/step - loss: 0.4892 - val_loss: 0.4878\n",
      "Epoch 142/200\n",
      "9000/9000 [==============================] - 7s 784us/step - loss: 0.4893 - val_loss: 0.4872\n",
      "Epoch 143/200\n",
      "9000/9000 [==============================] - 7s 786us/step - loss: 0.4892 - val_loss: 0.4880\n",
      "Epoch 144/200\n",
      "9000/9000 [==============================] - 7s 784us/step - loss: 0.4892 - val_loss: 0.4876\n",
      "Epoch 145/200\n",
      "9000/9000 [==============================] - 7s 787us/step - loss: 0.4891 - val_loss: 0.4877\n",
      "Epoch 146/200\n",
      "9000/9000 [==============================] - 7s 785us/step - loss: 0.4891 - val_loss: 0.4871\n",
      "Epoch 147/200\n",
      "9000/9000 [==============================] - 7s 784us/step - loss: 0.4892 - val_loss: 0.4882\n",
      "Epoch 148/200\n",
      "9000/9000 [==============================] - 7s 788us/step - loss: 0.4892 - val_loss: 0.4872\n",
      "Epoch 149/200\n",
      "9000/9000 [==============================] - 7s 786us/step - loss: 0.4891 - val_loss: 0.4874\n",
      "Epoch 150/200\n",
      "9000/9000 [==============================] - 7s 785us/step - loss: 0.4891 - val_loss: 0.4872\n",
      "Epoch 151/200\n",
      "9000/9000 [==============================] - 7s 786us/step - loss: 0.4890 - val_loss: 0.4870\n",
      "Epoch 152/200\n",
      "9000/9000 [==============================] - 7s 785us/step - loss: 0.4891 - val_loss: 0.4870\n",
      "Epoch 153/200\n",
      "9000/9000 [==============================] - 7s 787us/step - loss: 0.4890 - val_loss: 0.4870\n",
      "Epoch 154/200\n",
      "9000/9000 [==============================] - 7s 786us/step - loss: 0.4892 - val_loss: 0.4873\n"
     ]
    },
    {
     "name": "stdout",
     "output_type": "stream",
     "text": [
      "Epoch 155/200\n",
      "9000/9000 [==============================] - 7s 784us/step - loss: 0.4891 - val_loss: 0.4873\n",
      "Epoch 156/200\n",
      "9000/9000 [==============================] - 7s 786us/step - loss: 0.4890 - val_loss: 0.4879\n",
      "Epoch 157/200\n",
      "9000/9000 [==============================] - 7s 786us/step - loss: 0.4890 - val_loss: 0.4876\n",
      "Epoch 158/200\n",
      "9000/9000 [==============================] - 7s 786us/step - loss: 0.4889 - val_loss: 0.4880\n",
      "Epoch 159/200\n",
      "9000/9000 [==============================] - 7s 787us/step - loss: 0.4889 - val_loss: 0.4875\n",
      "Epoch 160/200\n",
      "9000/9000 [==============================] - 7s 787us/step - loss: 0.4889 - val_loss: 0.4871\n",
      "Epoch 161/200\n",
      "9000/9000 [==============================] - 7s 787us/step - loss: 0.4889 - val_loss: 0.4870\n",
      "Epoch 162/200\n",
      "9000/9000 [==============================] - 7s 785us/step - loss: 0.4889 - val_loss: 0.4867\n",
      "Epoch 163/200\n",
      "9000/9000 [==============================] - 7s 786us/step - loss: 0.4889 - val_loss: 0.4877\n",
      "Epoch 164/200\n",
      "9000/9000 [==============================] - 7s 786us/step - loss: 0.4889 - val_loss: 0.4880\n",
      "Epoch 165/200\n",
      "9000/9000 [==============================] - 7s 785us/step - loss: 0.4889 - val_loss: 0.4875\n",
      "Epoch 166/200\n",
      "9000/9000 [==============================] - 7s 785us/step - loss: 0.4889 - val_loss: 0.4881\n",
      "Epoch 167/200\n",
      "9000/9000 [==============================] - 7s 787us/step - loss: 0.4889 - val_loss: 0.4868\n",
      "Epoch 168/200\n",
      "9000/9000 [==============================] - 7s 786us/step - loss: 0.4889 - val_loss: 0.4869\n",
      "Epoch 169/200\n",
      "9000/9000 [==============================] - 7s 784us/step - loss: 0.4889 - val_loss: 0.4868\n",
      "Epoch 170/200\n",
      "9000/9000 [==============================] - 7s 786us/step - loss: 0.4889 - val_loss: 0.4871\n",
      "Epoch 171/200\n",
      "9000/9000 [==============================] - 7s 784us/step - loss: 0.4889 - val_loss: 0.4871\n",
      "Epoch 172/200\n",
      "9000/9000 [==============================] - 7s 787us/step - loss: 0.4889 - val_loss: 0.4868\n",
      "Epoch 173/200\n",
      "9000/9000 [==============================] - 7s 786us/step - loss: 0.4889 - val_loss: 0.4867\n",
      "Epoch 174/200\n",
      "9000/9000 [==============================] - 7s 784us/step - loss: 0.4889 - val_loss: 0.4881\n",
      "Epoch 175/200\n",
      "9000/9000 [==============================] - 7s 785us/step - loss: 0.4888 - val_loss: 0.4874\n",
      "Epoch 176/200\n",
      "9000/9000 [==============================] - 7s 786us/step - loss: 0.4889 - val_loss: 0.4865\n",
      "Epoch 177/200\n",
      "9000/9000 [==============================] - 7s 785us/step - loss: 0.4888 - val_loss: 0.4873\n",
      "Epoch 178/200\n",
      "9000/9000 [==============================] - 7s 785us/step - loss: 0.4887 - val_loss: 0.4868\n",
      "Epoch 179/200\n",
      "9000/9000 [==============================] - 7s 785us/step - loss: 0.4887 - val_loss: 0.4866\n",
      "Epoch 180/200\n",
      "9000/9000 [==============================] - 7s 781us/step - loss: 0.4887 - val_loss: 0.4866\n",
      "Epoch 181/200\n",
      "9000/9000 [==============================] - 7s 784us/step - loss: 0.4887 - val_loss: 0.4866\n",
      "Epoch 182/200\n",
      "9000/9000 [==============================] - 7s 786us/step - loss: 0.4887 - val_loss: 0.4866\n",
      "Epoch 183/200\n",
      "9000/9000 [==============================] - 7s 784us/step - loss: 0.4886 - val_loss: 0.4868\n",
      "Epoch 184/200\n",
      "9000/9000 [==============================] - 7s 786us/step - loss: 0.4887 - val_loss: 0.4865\n",
      "Epoch 185/200\n",
      "9000/9000 [==============================] - 7s 786us/step - loss: 0.4887 - val_loss: 0.4867\n",
      "Epoch 186/200\n",
      "9000/9000 [==============================] - 7s 785us/step - loss: 0.4888 - val_loss: 0.4868\n",
      "Epoch 187/200\n",
      "9000/9000 [==============================] - 7s 785us/step - loss: 0.4886 - val_loss: 0.4868\n",
      "Epoch 188/200\n",
      "9000/9000 [==============================] - 7s 786us/step - loss: 0.4888 - val_loss: 0.4866\n",
      "Epoch 189/200\n",
      "9000/9000 [==============================] - 7s 786us/step - loss: 0.4886 - val_loss: 0.4868\n",
      "Epoch 190/200\n",
      "9000/9000 [==============================] - 7s 786us/step - loss: 0.4887 - val_loss: 0.4867\n",
      "Epoch 191/200\n",
      "9000/9000 [==============================] - 7s 786us/step - loss: 0.4887 - val_loss: 0.4866\n",
      "Epoch 192/200\n",
      "9000/9000 [==============================] - 7s 783us/step - loss: 0.4886 - val_loss: 0.4865\n",
      "Epoch 193/200\n",
      "9000/9000 [==============================] - 7s 786us/step - loss: 0.4888 - val_loss: 0.4875\n",
      "Epoch 194/200\n",
      "9000/9000 [==============================] - 7s 785us/step - loss: 0.4887 - val_loss: 0.4866\n",
      "Epoch 195/200\n",
      "9000/9000 [==============================] - 7s 786us/step - loss: 0.4887 - val_loss: 0.4874\n",
      "Epoch 196/200\n",
      "9000/9000 [==============================] - 7s 785us/step - loss: 0.4886 - val_loss: 0.4867\n",
      "Epoch 197/200\n",
      "9000/9000 [==============================] - 7s 787us/step - loss: 0.4886 - val_loss: 0.4867\n",
      "Epoch 198/200\n",
      "9000/9000 [==============================] - 7s 785us/step - loss: 0.4885 - val_loss: 0.4864\n",
      "Epoch 199/200\n",
      "9000/9000 [==============================] - 7s 787us/step - loss: 0.4887 - val_loss: 0.4868\n",
      "Epoch 200/200\n",
      "9000/9000 [==============================] - 7s 785us/step - loss: 0.4885 - val_loss: 0.4866\n"
     ]
    }
   ],
   "source": [
    "history = autoencoder.fit(X_train, X_train, validation_data=(X_dev, X_dev), epochs=200, batch_size=128)"
   ]
  },
  {
   "cell_type": "code",
   "execution_count": 38,
   "metadata": {},
   "outputs": [
    {
     "data": {
      "text/plain": [
       "[<matplotlib.lines.Line2D at 0x7fd9217bd048>]"
      ]
     },
     "execution_count": 38,
     "metadata": {},
     "output_type": "execute_result"
    },
    {
     "data": {
      "image/png": "[encoded data removed]",
      "text/plain": [
       "<matplotlib.figure.Figure at 0x7fd921826a58>"
      ]
     },
     "metadata": {},
     "output_type": "display_data"
    }
   ],
   "source": [
    "plt.plot(history.history[\"loss\"])\n",
    "plt.plot(history.history[\"val_loss\"])"
   ]
  },
  {
   "cell_type": "code",
   "execution_count": 39,
   "metadata": {},
   "outputs": [],
   "source": [
    "#autoencoder.save_weights(\"ae_conv_faces_3_.h5\")"
   ]
  },
  {
   "cell_type": "code",
   "execution_count": 10,
   "metadata": {},
   "outputs": [],
   "source": [
    "autoencoder.load_weights(\"./ae_conv_faces_3.h5\")"
   ]
  },
  {
   "cell_type": "code",
   "execution_count": 11,
   "metadata": {},
   "outputs": [],
   "source": [
    "E_test = encoder.predict(X_dev)\n",
    "D_test = decoder.predict(E_test)"
   ]
  },
  {
   "cell_type": "code",
   "execution_count": 13,
   "metadata": {},
   "outputs": [
    {
     "data": {
      "text/plain": [
       "<matplotlib.image.AxesImage at 0x7fbfc40db9e8>"
      ]
     },
     "execution_count": 13,
     "metadata": {},
     "output_type": "execute_result"
    },
    {
     "data": {
      "image/png": "[encoded data removed]",
      "text/plain": [
       "<matplotlib.figure.Figure at 0x7fbfc4180b00>"
      ]
     },
     "metadata": {},
     "output_type": "display_data"
    }
   ],
   "source": [
    "f, (ax1, ax2) = plt.subplots(1, 2)#, sharey=True, sharex=True)\n",
    "i=5\n",
    "ax1.imshow(X_dev[i,:,:,0],cmap=\"gray\")\n",
    "ax2.imshow(D_test[i,:,:,0],cmap=\"gray\")"
   ]
  },
  {
   "cell_type": "code",
   "execution_count": 13,
   "metadata": {},
   "outputs": [
    {
     "data": {
      "text/plain": [
       "<matplotlib.image.AxesImage at 0x7f8b58a8dcc0>"
      ]
     },
     "execution_count": 13,
     "metadata": {},
     "output_type": "execute_result"
    },
    {
     "data": {
      "image/png": "[encoded data removed]",
      "text/plain": [
       "<matplotlib.figure.Figure at 0x7f8b58a54240>"
      ]
     },
     "metadata": {},
     "output_type": "display_data"
    }
   ],
   "source": [
    "f, (ax1, ax2) = plt.subplots(1, 2)#, sharey=True, sharex=True)\n",
    "i=6\n",
    "ax1.imshow(X_dev[i,:,:,0],cmap=\"gray\")\n",
    "ax2.imshow(D_test[i,:,:,0],cmap=\"gray\")"
   ]
  },
  {
   "cell_type": "code",
   "execution_count": 14,
   "metadata": {},
   "outputs": [
    {
     "data": {
      "text/plain": [
       "<matplotlib.image.AxesImage at 0x7f8b54ff62e8>"
      ]
     },
     "execution_count": 14,
     "metadata": {},
     "output_type": "execute_result"
    },
    {
     "data": {
      "image/png": "[encoded data removed]",
      "text/plain": [
       "<matplotlib.figure.Figure at 0x7f8b58a913c8>"
      ]
     },
     "metadata": {},
     "output_type": "display_data"
    }
   ],
   "source": [
    "avg_happy_E = np.mean(E_test[(y_dev==1).reshape((-1))], axis=0, keepdims=True)\n",
    "avg_happy = decoder.predict(avg_happy_E)\n",
    "plt.imshow(avg_happy[0,:,:,0],cmap=\"gray\")"
   ]
  },
  {
   "cell_type": "code",
   "execution_count": 15,
   "metadata": {},
   "outputs": [
    {
     "data": {
      "text/plain": [
       "(1000, 3, 3, 128)"
      ]
     },
     "execution_count": 15,
     "metadata": {},
     "output_type": "execute_result"
    }
   ],
   "source": [
    "E_test.shape"
   ]
  },
  {
   "cell_type": "code",
   "execution_count": 16,
   "metadata": {},
   "outputs": [
    {
     "data": {
      "application/vnd.jupyter.widget-view+json": {
       "model_id": "b9266b7916ff4b6d95c87b019275b9df",
       "version_major": 2,
       "version_minor": 0
      },
      "text/html": [
       "<p>Failed to display Jupyter Widget of type <code>interactive</code>.</p>\n",
       "<p>\n",
       "  If you're reading this message in Jupyter Notebook or JupyterLab, it may mean\n",
       "  that the widgets JavaScript is still loading. If this message persists, it\n",
       "  likely means that the widgets JavaScript library is either not installed or\n",
       "  not enabled. See the <a href=\"https://ipywidgets.readthedocs.io/en/stable/user_install.html\">Jupyter\n",
       "  Widgets Documentation</a> for setup instructions.\n",
       "</p>\n",
       "<p>\n",
       "  If you're reading this message in another notebook frontend (for example, a static\n",
       "  rendering on GitHub or <a href=\"https://nbviewer.jupyter.org/\">NBViewer</a>),\n",
       "  it may mean that your frontend doesn't currently support widgets.\n",
       "</p>\n"
      ],
      "text/plain": [
       "interactive(children=(FloatSlider(value=0.0, description='x', max=1.0, min=-1.0, step=0.01), Output()), _dom_classes=('widget-interact',))"
      ]
     },
     "metadata": {},
     "output_type": "display_data"
    },
    {
     "data": {
      "text/plain": [
       "<function __main__.plot>"
      ]
     },
     "execution_count": 16,
     "metadata": {},
     "output_type": "execute_result"
    }
   ],
   "source": [
    "enc_p = E_test[6,:,:,:]\n",
    "def plot(x):\n",
    "    enc = x*avg_happy_E+(1-x)*enc_p\n",
    "    enc = enc.reshape((1,3,3,-1))\n",
    "    dec = decoder.predict(enc)\n",
    "    plt.imshow(dec[0,:,:,0],cmap=\"gray\")\n",
    "    plt.show()\n",
    "    \n",
    "interact(plot,x=(-1,1,0.01))"
   ]
  },
  {
   "cell_type": "code",
   "execution_count": 15,
   "metadata": {},
   "outputs": [
    {
     "data": {
      "text/plain": [
       "<matplotlib.image.AxesImage at 0x7fbfceae3c50>"
      ]
     },
     "execution_count": 15,
     "metadata": {},
     "output_type": "execute_result"
    },
    {
     "data": {
      "image/png": "[encoded data removed]",
      "text/plain": [
       "<matplotlib.figure.Figure at 0x7fbfc42040f0>"
      ]
     },
     "metadata": {},
     "output_type": "display_data"
    }
   ],
   "source": [
    "E_rand = np.random.randn(1,3,3,128)\n",
    "D_rand = decoder.predict(E_rand)\n",
    "plt.imshow(D_rand[0,:,:,0],cmap=\"gray\")"
   ]
  },
  {
   "cell_type": "code",
   "execution_count": 16,
   "metadata": {},
   "outputs": [],
   "source": [
    "E_test_r = E_test.reshape((len(E_test),-1))"
   ]
  },
  {
   "cell_type": "code",
   "execution_count": 17,
   "metadata": {},
   "outputs": [
    {
     "data": {
      "text/plain": [
       "<matplotlib.collections.PathCollection at 0x7fbfc419f518>"
      ]
     },
     "execution_count": 17,
     "metadata": {},
     "output_type": "execute_result"
    },
    {
     "data": {
      "image/png": "[encoded data removed]",
      "text/plain": [
       "<matplotlib.figure.Figure at 0x7fbfc4166278>"
      ]
     },
     "metadata": {},
     "output_type": "display_data"
    }
   ],
   "source": [
    "plt.scatter(E_test_r[:,0], E_test_r[:,1], c=y_dev.reshape((-1,)).astype(np.float))"
   ]
  },
  {
   "cell_type": "code",
   "execution_count": null,
   "metadata": {
    "collapsed": true
   },
   "outputs": [],
   "source": []
  }
 ],
 "metadata": {
  "kernelspec": {
   "display_name": "Python [default]",
   "language": "python",
   "name": "python3"
  },
  "language_info": {
   "codemirror_mode": {
    "name": "ipython",
    "version": 3
   },
   "file_extension": ".py",
   "mimetype": "text/x-python",
   "name": "python",
   "nbconvert_exporter": "python",
   "pygments_lexer": "ipython3",
   "version": "3.5.5"
  },
  "varInspector": {
   "cols": {
    "lenName": 16,
    "lenType": 16,
    "lenVar": 40
   },
   "kernels_config": {
    "python": {
     "delete_cmd_postfix": "",
     "delete_cmd_prefix": "del ",
     "library": "var_list.py",
     "varRefreshCmd": "print(var_dic_list())"
    },
    "r": {
     "delete_cmd_postfix": ") ",
     "delete_cmd_prefix": "rm(",
     "library": "var_list.r",
     "varRefreshCmd": "cat(var_dic_list()) "
    }
   },
   "types_to_exclude": [
    "module",
    "function",
    "builtin_function_or_method",
    "instance",
    "_Feature"
   ],
   "window_display": false
  }
 },
 "nbformat": 4,
 "nbformat_minor": 2
}
